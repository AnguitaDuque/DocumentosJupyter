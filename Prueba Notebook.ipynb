{
 "cells": [
  {
   "cell_type": "markdown",
   "id": "d42ba740-2e5d-4d77-8690-466aa267ee0c",
   "metadata": {},
   "source": [
    "## Tutorial JupyterLab\n",
    "El objetivo de este Notebook es conocer el uso de jupyter lab, y realizar pruebas de manejo de los Notebook."
   ]
  },
  {
   "cell_type": "markdown",
   "id": "0db29116-0193-47f1-80ba-9f8461f1064f",
   "metadata": {},
   "source": [
    "# La sucesión de Fibonacci\n",
    "\n",
    "La sucesión de **Fibonacci** comienza con los números 0 y 1, y a partir de estos, cada término es la suma de los dos anteriores. El siguiente código Python muestra los números de la serie (hasta 100):\n"
   ]
  },
  {
   "cell_type": "code",
   "execution_count": 1,
   "id": "a040a9c2-ec71-4662-b77a-923a7206d7bc",
   "metadata": {},
   "outputs": [
    {
     "name": "stdout",
     "output_type": "stream",
     "text": [
      "0 1 1 2 3 5 8 13 21 34 55 89 \n"
     ]
    }
   ],
   "source": [
    "def fib(n):\n",
    "    a, b = 0,1\n",
    "    while a < n:\n",
    "        print(a, end=' ')\n",
    "        a, b = b, a+b\n",
    "    print()\n",
    "    \n",
    "fib(100)\n"
   ]
  },
  {
   "cell_type": "markdown",
   "id": "902b0996-06dd-4742-8bfc-0e0d364c3992",
   "metadata": {
    "tags": []
   },
   "source": [
    "$$f(x) = \\frac{x}{1 - x - x^2}$$"
   ]
  },
  {
   "cell_type": "markdown",
   "id": "1f39e411-f33f-4802-ac6c-c654b6bb7797",
   "metadata": {},
   "source": [
    "(imagen/fibonaci.png \"Espiral de Fibonacci\")\n",
    "\n",
    "La **Espiral de Fibonacci** se puede construir a partir de los rectángulos de Fibonacci con los números de la sucesión.\n"
   ]
  },
  {
   "cell_type": "markdown",
   "id": "345d7bc6-aedb-4fce-b929-102c5d2b1526",
   "metadata": {},
   "source": [
    "(imagen/espiral.png)"
   ]
  },
  {
   "cell_type": "code",
   "execution_count": null,
   "id": "d359ebf8-f26e-4438-9fd1-fd441cbd10a3",
   "metadata": {},
   "outputs": [],
   "source": []
  },
  {
   "cell_type": "code",
   "execution_count": null,
   "id": "52119438-852a-4899-8e84-1f4d24d60e0d",
   "metadata": {},
   "outputs": [],
   "source": []
  }
 ],
 "metadata": {
  "kernelspec": {
   "display_name": "Python 3 (ipykernel)",
   "language": "python",
   "name": "python3"
  },
  "language_info": {
   "codemirror_mode": {
    "name": "ipython",
    "version": 3
   },
   "file_extension": ".py",
   "mimetype": "text/x-python",
   "name": "python",
   "nbconvert_exporter": "python",
   "pygments_lexer": "ipython3",
   "version": "3.9.7"
  },
  "toc-autonumbering": false,
  "toc-showcode": true,
  "toc-showmarkdowntxt": true,
  "toc-showtags": true
 },
 "nbformat": 4,
 "nbformat_minor": 5
}
