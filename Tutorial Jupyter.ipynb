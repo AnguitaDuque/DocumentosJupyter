{
 "cells": [
  {
   "cell_type": "markdown",
   "metadata": {},
   "source": [
    "# Tutorial de Jupyter\n",
    "\n",
    "## jupyter-lab\n",
    "## jupyter-notebook"
   ]
  },
  {
   "attachments": {},
   "cell_type": "markdown",
   "metadata": {},
   "source": [
    "![jupyter.png](.\\imagenes\\jupyter.png)\n",
    "\n",
    "\n",
    "\n",
    "\n",
    "## Introducción\n",
    "\n",
    "Jupyter Notebook es un entorno computacional interactivo basado en web que permite crear, modificar, y visualizar documentos del tipo cuaderno (tambien llamados libretas, o notebook)  Jupyter (extension ipynb) [enlace a la pagina oficial](https://jupyter.org/).\n",
    "\n",
    "El proyecto Jupyter tiene su origen en la aplicación web Ipython Notebook que permite registrar las sesiones de trabajo con Python en cuadernos electrónicos, que pueden incluir otros contenidos además del código fuente.\n",
    "En el año 2014 se anunció un proyecto separado de Ipython para facilitar el desarrollo de Notebook y de otras herramientas para crear y compartir con facilidad este tipo de cuadernos. El proyecto ha evolucionado en el actual JupyterLab con un nuevo interfaz de usuario; estando en desarrollo su primera versión pero con betas disponibles para su instalación y disfrute.\n",
    "\n",
    "Un cuaderno de trabajo está formado por un conjunto de celdas que pueden contener código fuente, textos explicativos, ecuaciones, gráficos, controles interactivos (widgets) y otros elementos. Gracias a su formato flexible los cuadernos se pueden modificar con facilidad y el código de una celda se puede ejecutar y el resultado que se obtiene se muestra a continuación de la celda como una parte del cuaderno, facilitando al usuario tanto el cambio de los datos como el análisis de la información resultante en tiempo real.\n",
    "\n",
    "Jupyter (Notebook o Lab) es una aplicación web con una arquitectura cliente-servidor que permite editar y ejecutar los cuadernos y otros tipos de archivos utilizando un navegador de Internet. La aplicación se puede ejecutar en cualquier equipo, incluso sin conexión a Internet. Jupyter es compatible con las últimas versiones de los navegadores Firefox, Chrome y Safari.\n",
    "\n",
    "El término Jupyter es un acrónimo que identifica a los lenguajes de programación Julia, Python y R que fueron los primeros en ser aceptados por la aplicación en sus comienzos. Hoy día afortunadamente se pueden usar más lenguajes de programación.\n"
   ]
  },
  {
   "cell_type": "markdown",
   "metadata": {},
   "source": [
    "\n",
    "## Instalación y ejecucion\n",
    "Lo primero que necesitamos es tener instalado Python 3, que podemos descargar de su __[web oficial](https://www.python.org/downloads/release/python-364/)__. Una vez hecho, actualizamos al gestor de paquetes de python (pip) y después instalamos Jupyter,\n",
    "\n",
    "    python3 -m pip install --upgrade pip\n",
    "    pip3 install jupyter\n",
    "\n",
    "Cuando haya terminado de instalarr, desde Mac o Linux simplemente tenemos que acceder al terminal e introducir el comando:\n",
    "\n",
    "    jupyter-notebook\n",
    "    o\n",
    "    jupyter-lab\n",
    "\n",
    "En caso que utilicemos un entorno Windows el comando se ejeuta en la ventana CMD o en el PowerShel. Esta operación tambien puede realizarse a través de Anaconda Navigator que podemos encontrar dentro de Anaconda en el menú de inicio. \n",
    "   \n",
    "   ![ejecutando jupyter](.\\imagenes\\f2juR7n.png)\n",
    "   \n",
    "Sea cual sea nuestro caso, a continuación, veremos que en la consola se ejecuta un servidor web en la dirección http://localhost:8888, y se nos abrirá de forma automática el dashboard de la aplicación jupiter en el navegador predeterminado.Es importante remarcar que localhost no es una web en sí, sino que indica que el contenido proviene de nuestro propio ordenador. (Podemos abrirlo en otro navegador, para lo cual se nos indica la URL en la salida por pantalla).\n",
    "\n",
    "**Es conveniente saber que jupyter no permite navegar a carpetas superiores a la inicial.**\n"
   ]
  },
  {
   "attachments": {
    "cbb32027-81ef-4287-9a53-d58f31e1a510.png": {
     "image/png": "[encoded data removed]"
    }
   },
   "cell_type": "markdown",
   "metadata": {},
   "source": [
    "### Entorno jupyter-notebook\n",
    "\n",
    "* Si hemos ejecutado jupiter-notebook:\n",
    "\n",
    "Al ejecutar Jupyter-Notebook en la linea de comandos, aparecera, en nuestro navegador una primera pagina denominada Jupyter Dashboard. En ella podremos ver la lista de\n",
    "archivos disponibles en la carpeta en donde hayamos ejecutado nuestro programa.\n",
    "Ademas, en caso de tener instaladas extensiones (plugins) a nuestro Jupyter Notebook, como por ejemplo el gestor de cursos y correccion automatica Nbgrader,\n",
    "tambien nos aparecera en esta pagina de acceso. Otro elemento importante es el\n",
    "boton, en la esquina superior derecha, para subir archivos al servidor. En caso de\n",
    "ejecutarse Jupyter Notebook localmente, este boton no presenta una gran funcionalidad, pero sı para el caso en que accedamos a estos documentos desde otro ordenador\n",
    "y a trav´es del navegador.\n",
    "\n",
    "Todos los atajos de teclado disponibles están en el botón:  ![teclado.png](attachment:cbb32027-81ef-4287-9a53-d58f31e1a510.png) \n",
    "\n",
    "![pagina inicial NoteBook](.\\imagenes\\homeNotebook.png)\n"
   ]
  },
  {
   "cell_type": "markdown",
   "metadata": {
    "jp-MarkdownHeadingCollapsed": true,
    "tags": []
   },
   "source": [
    "### Entorno jupyter-lab\n",
    "\n",
    "* Si hemos ejecutado jupiter-lab aperecera:\n",
    "\n",
    "![pagina inicial lab](.\\imagenes\\homelab.png)"
   ]
  },
  {
   "cell_type": "markdown",
   "metadata": {
    "jp-MarkdownHeadingCollapsed": true,
    "tags": []
   },
   "source": [
    "## Creando un notebook\n",
    "\n",
    "El workspace que abre Jupyter es nuestro home de usuario. Con el botón New, podemos crear:\n",
    "- Carpetas (recomendable para organizar todo).\n",
    "- Archivos de texto (con un editor bastante simple).\n",
    "- Terminales.\n",
    "- Cuadernos o (notebook), que es la opción que vamos a estudiar en este tutorial.\n",
    "\n",
    "Todo notebook tiene tres áreas distintas:\n",
    "\n",
    "- Título: aparece en la parte superior del notebook. Este nombre es por defecto Untitled, pero lo podemos cambiar si cliqueamos en él.\n",
    "- Barra de herramientas: nos permite gestionar todo lo relacionado con el notebook (crear, guardar, cerrar, etc.), las celdas (copiar, cortar, insertar, etc.) y el kernel (interrumpir, reiniciar, parar, etc.).\n",
    "- Celdas: son como entradas del intérprete de Python donde podemos escribir nuestro código. Además también les podemos añadir notas e imágenes u otros elementos multimedia.\n",
    "Cuando creamos un notebook, se nos abre en una pestaña nueva. La interfaz es muy sencilla, con una barra de menú y herramientas y una celda vacía, que es la unidad básica de trabajo con Jupyter. En una celda, podremos escribir una o varias líneas de código, y ejecutarla. También podemos escribir texto plano, y eliminar la celda del flujo de ejecución del notebook o hacer que se muestre de manera diferente si queremos que funcione como título, separador de sección, etc. Lo veremos más adelante.\n",
    "\n",
    "Es importante remarcar que tenemos dos modos de trabajo en Jupyter: \n",
    "- edición, que permite modificar el contenido de las celdas, como si fuera un editor de texto. La que tengamos seleccionada se muestra en verde. Podemos entrar en el mismo seleccionando una celda y pulsando _Enter_. \n",
    "<img src='https://imgur.com/burNHbh.png'>\n",
    "\n",
    "- mando, que nos permite ejecutar celdas o modificar el notebook y su estructura. La celda seleccionada se muestra en azul. Podemos volver al modo de mando pulsando _Esc_.\n",
    "<img src='https://imgur.com/b7I1thD.png'>\n",
    "\n",
    "Además, si ha habido un error en la ejecución de una celda, ésta aparece en color rojo.\n",
    "\n",
    "Para ejecutar una celda, haremos _Ctrl + Enter_, o si queremos pasar automáticamente a la siguiente después de ejecutarla, podemos hacer _Shift + Enter_. Para saber cuándo una celda se ha ejecutado, está en ello o ya ha terminado, podemos mirar la cabecera de la celda:\n",
    "- Si solamente aparece In [ ], quiere decir que aún no se ha ejecutado.\n",
    "- Si lo que tenemos es In [\\*], entonces está en proceso de ejecución.\n",
    "- Si aparece un número entre los corchetes, ya ha terminado de ejecutar. La única _pega_ es que podemos haber hecho cambios posteriores a su ejecución, y esto no se indica de ninguna manera.\n",
    "\n",
    "Existen dos tipos de celdas principales:\n",
    "\n",
    "- *Code*: Las celdas de código se identifican por la etiqueta In [ ]: que aparece al inicio de la celda. Como su nombre indica, en este tipo de celdas podemos escribir el código Python que va a ejecutar el kernel del notebook. Para ello podemos clicar el botón Run de la barra de herramientas, o simplemente usar el atajo de teclado Shift+Enter. El resultado producido por el código de la celda aparece debajo de la misma. Además, la etiqueta In[ ] pasa a contener un número que nos indica el orden de ejecución de las celdas del notebook. Otro aspecto a considerar de las celdas de código es que mientras se ejecutan su etiqueta contiene un asterisco: In [*].\n",
    "- Markdown: Las celdas de markdown son en las que podemos incluir nuestros comentarios, imágenes y enlaces usando el lenguaje Markdown el cual tiene una sintaxis muy simple.\n",
    "\n",
    "Para cambiar el tipo de celda podemos usar el menú desplegable al lado del botón con un teclado en la barra de herramientas y seleccionar la opción deseada. Otra opción es mediante los atajos de teclado: Esc+M para convertir una celda de código a markdown, y Esc+Y para realizar el cambio inverso.\n",
    "\n",
    "![Seleccioar tipo de celda](.\\imagenes\\Screenshot241.png)\n"
   ]
  },
  {
   "cell_type": "markdown",
   "metadata": {},
   "source": [
    "## Modificar un cuaderno\n",
    "Cuando sea necesario abrir el cuaderno hacer doble clic sobre su nombre o seleccionar la opción \"Open\" del menú contextual. En ambos casos primero se abrirá el cuaderno y con posterioridad se ejecutarán todas las celdas. Después, para editar el contenido de alguna celda: hacer doble clic sobre una celda con texto o clic sobre una celda con código y reescribir su contenido.\n",
    "\n",
    "Para editar cualquier línea de código lo normal es hacer clic a la altura de la línea y del carácter a modificar. Para volver a ejecutar la celda actual presionar [Control+Enter]. Como se puede apreciar con Jupyter es fácil modificar cuadernos para comprobar nuevos resultados. deshacer el último cambio con [Control+Z].\n",
    "En el menú \"Edit\" se encuentran todas las opciones para operar con celdas. Básicamente, una o más celdas se pueden seleccionar o no, cortar, copiar, pegar y mover. Con la opción \"Split Cell\" se puede dividir una celda en dos. La división se efectuará por la posición que ocupe el cursor. También, dos o más celdas seleccionadas se pueden agrupar en una con la opción \"Merge Selected Cells\".\n",
    "Para borrar las salidas que se situán en el espacio contiguo a una celda y que resultan de ejecutar código fuente Python seleccionar las opciones \"Clear Output\" o \"Clear All Outputs\" en el menú \"Edit\".\n",
    "También, en la barra de herramientas del cuaderno hay botones con las opciones de edición de más uso.\n",
    "\n",
    "Por último, comentar que existen varias opciones para ejecutar el contenido de las celdas en el menú \"Run\". Para ejecutar celdas individuales o todas la celdas; para ejecutar una celda e insertar una nueva a continuación y para ejecutar las celdas anteriores o posteriores a una celda determinada.\n"
   ]
  },
  {
   "cell_type": "markdown",
   "metadata": {},
   "source": [
    "## Exportar Notebooks\n",
    "Además de crear y modificar los notebook, también podemos exportarlos a otros formatos y compartirlos con quién queramos. En concreto en el menú File → Download as nos da la opción de descargarnos nuestro notebook como un fichero HTML, PDF, Markdown, script de Python o fichero Notebook."
   ]
  },
  {
   "cell_type": "markdown",
   "metadata": {},
   "source": [
    "   \n",
    "---\n"
   ]
  },
  {
   "cell_type": "markdown",
   "metadata": {},
   "source": [
    "## Celdas de código\n",
    "\n",
    "Es importante, a la par que evidente, tener instalados los paquetes de Python que queramos utilizar. Una vez hecho, podemos importarlos al notebook. Para los ejemplos utilizados en este tutorial, será necesario instalar los paquetes matplotlib, numpy y emoji. Recuerdo que la instalación de los mismos se hace igual que instalamos jupyter al principio del tutorial, es decir:\n",
    "\n",
    "    pip3 install matplotlib\n",
    "                    \n",
    "Podemos escribir cualquier tipo de algoritmo, como podría ser una búsqueda binaria:                    "
   ]
  },
  {
   "cell_type": "code",
   "execution_count": 5,
   "metadata": {},
   "outputs": [],
   "source": [
    "def busqueda_binaria(array, valor):\n",
    "    a = 0\n",
    "    b = len(array)\n",
    "    while a < b:\n",
    "        m = (a + b) // 2\n",
    "\n",
    "        if array[m] == valor:\n",
    "            return m\n",
    "        elif array[m] < valor:\n",
    "            a = m + 1\n",
    "        else:\n",
    "            b = m\n",
    "            \n",
    "    return None\n",
    "\n",
    "x1 = [0,1,2,3,4,5,6,7]\n",
    "x2 = [1,4,8,12,41]\n",
    "x3 = [0,1,2,4,8,16,32]"
   ]
  },
  {
   "cell_type": "code",
   "execution_count": 6,
   "metadata": {},
   "outputs": [
    {
     "data": {
      "text/plain": [
       "3"
      ]
     },
     "execution_count": 6,
     "metadata": {},
     "output_type": "execute_result"
    }
   ],
   "source": [
    "busqueda_binaria(x1,3)"
   ]
  },
  {
   "cell_type": "code",
   "execution_count": 7,
   "metadata": {},
   "outputs": [
    {
     "data": {
      "text/plain": [
       "0"
      ]
     },
     "execution_count": 7,
     "metadata": {},
     "output_type": "execute_result"
    }
   ],
   "source": [
    "busqueda_binaria(x2,1)"
   ]
  },
  {
   "cell_type": "code",
   "execution_count": 8,
   "metadata": {},
   "outputs": [
    {
     "name": "stdout",
     "output_type": "stream",
     "text": [
      "No encontrado\n"
     ]
    }
   ],
   "source": [
    "a=busqueda_binaria(x2,3)   #Al no existir no muestra nada en la salida\n",
    "if a:\n",
    "    print(a)\n",
    "else:\n",
    "    print(\"No encontrado\")"
   ]
  },
  {
   "cell_type": "code",
   "execution_count": 9,
   "metadata": {},
   "outputs": [
    {
     "data": {
      "text/plain": [
       "4"
      ]
     },
     "execution_count": 9,
     "metadata": {},
     "output_type": "execute_result"
    }
   ],
   "source": [
    "busqueda_binaria(x3,8)"
   ]
  },
  {
   "cell_type": "code",
   "execution_count": 10,
   "metadata": {},
   "outputs": [
    {
     "data": {
      "text/plain": [
       "1"
      ]
     },
     "execution_count": 10,
     "metadata": {},
     "output_type": "execute_result"
    }
   ],
   "source": [
    "busqueda_binaria(x3,1)"
   ]
  },
  {
   "cell_type": "markdown",
   "metadata": {},
   "source": [
    "#### La sucesión de Fibonacci\n",
    "\n",
    "La sucesión de **Fibonacci** comienza con los números 0 y 1, y a partir de estos, cada término es la suma de los dos anteriores. El siguiente código Python muestra los números de la serie (hasta 100):"
   ]
  },
  {
   "cell_type": "code",
   "execution_count": 11,
   "metadata": {},
   "outputs": [
    {
     "name": "stdout",
     "output_type": "stream",
     "text": [
      "0 1 1 2 3 5 8 13 21 34 55 89 \n"
     ]
    }
   ],
   "source": [
    "def fib(n):\n",
    "    a, b = 0,1\n",
    "    while a < n:\n",
    "        print(a, end=' ')\n",
    "        a, b = b, a+b\n",
    "    print()\n",
    "    \n",
    "fib(100)"
   ]
  },
  {
   "cell_type": "markdown",
   "metadata": {},
   "source": [
    "## Gráficas\n",
    "\n",
    "La librería _matplotlib.pyplot_ nos ofrece multitud de opciones a la hora de trabajar con gráficas, desde pintar varias funciones en la misma figura, con diferentes colores o diseños, hasta indicar por ejemplo el máximo de una función.\n",
    "\n",
    "<img src='graficas.png'>"
   ]
  },
  {
   "cell_type": "code",
   "execution_count": 12,
   "metadata": {},
   "outputs": [
    {
     "data": {
      "image/png": "[encoded data removed]",
      "text/plain": [
       "<Figure size 432x288 with 1 Axes>"
      ]
     },
     "metadata": {
      "needs_background": "light"
     },
     "output_type": "display_data"
    }
   ],
   "source": [
    "import matplotlib.pyplot as plt\n",
    "def pow(array,exp): return [x**exp for x in array]\n",
    "\n",
    "x = [1, 2, 3, 4]\n",
    "\n",
    "plt.plot(x, x, 'r^', x, pow(x,2), 'gs', x, pow(x, 3), 'bo')\n",
    "plt.show()"
   ]
  },
  {
   "cell_type": "code",
   "execution_count": 13,
   "metadata": {},
   "outputs": [
    {
     "data": {
      "image/png": "[encoded data removed]",
      "text/plain": [
       "<Figure size 432x288 with 1 Axes>"
      ]
     },
     "metadata": {
      "needs_background": "light"
     },
     "output_type": "display_data"
    }
   ],
   "source": [
    "import numpy as np\n",
    "\n",
    "x_data = np.arange(-5, 6)\n",
    "y_data = 5 - np.absolute(x_data)\n",
    "\n",
    "plt.plot(x_data, y_data)\n",
    "plt.annotate('máx', xy=(0, 5), xytext=(2, 4.5), arrowprops=dict(facecolor='red', shrink=0.005))\n",
    "plt.show()"
   ]
  },
  {
   "cell_type": "markdown",
   "metadata": {},
   "source": [
    "### Otros lenguajes\n",
    "\n",
    "Para poder trabajar en Jupyter con otros lenguajes, se han desarrollado diferentes _kernels_. Los más utilizados, aparte del propio python, son:\n",
    "- Haskell: kernel _ihaskell_.\n",
    "- Javascript: kernel _ijavascript_.\n",
    "- Julia: kernel _ijulia_.\n",
    "\n",
    "Para añadirlos, en Linux debemos utilizar los siguientes comandos:\n",
    "\n",
    "    sudo add-apt-repository ppa:chronitis/jupyter\n",
    "    sudo apt-get update\n",
    "    sudo apt-get install nombre_del_kernel\n",
    "    \n",
    "Una vez instalados, simplemente seleccionamos el kernel deseado en la barra de menú de Jupyter.    "
   ]
  },
  {
   "cell_type": "markdown",
   "metadata": {},
   "source": [
    "---"
   ]
  },
  {
   "cell_type": "markdown",
   "metadata": {},
   "source": [
    "## Celdas de Markdown\n",
    "Para la edicion de las celdas de texto se uriliza el lenguaje [Markdown](https://es.wikipedia.org/wiki/Markdown#Ejemplos_de_sintaxis), que es un lenguaje de marcado ligero muy popular, utilizado como estándar de escritura para científicos y analistas de datos. El lenguaje es un subconjunto del lenguaje HTML por lo que donde se necesite un mayor control del formato, podemos incluir etiquetas HTML. Visite [la guia de Markdown](https://www.markdownguide.org)! para mas detalle.\n",
    "\n",
    "En una celda markdown se pueden incluir diferentes tipos de elementos:\n",
    "- [Párrafos y saltos de línea](#parrafos)\n",
    "- [Encabezados](#encabezado)\n",
    "- [Texto enfatizado](#enfatizado)\n",
    "- [Linea horizontal](#lineaH)\n",
    "- [Marcas](#marcas)\n",
    "- [Listas](#listas)\n",
    "- [Enlaces](#enlace) \n",
    "- [Insertar imagen](#imagen) \n",
    "- [Sangrado](#sangrado) \n",
    "- [Formulas y ecuaciones (LaTeX)](#latex)\n",
    "- [Código incrustado](#incrustado)\n",
    "- [Cajas de notas de colores](#cajanotas)\n",
    "- [Tablas](#tablas)\n",
    "\n",
    "\n",
    "- Formas geométricas\n",
    "\n",
    "- Rebaja con sabor a GitHub\n",
    "\n",
    "## Markdown, referencia rapida\n",
    "\n",
    "Esta referencia rapida de Markdown proporciona una descripción general de los elementos de sintaxis de Markdown. No puede cubrir todos los casos extremos, por lo que si necesita más información sobre cualquiera de estos elementos, consulte las guías de referencia.\n",
    "\n",
    "La sintaxis basica son los elementos descritos en el documento de diseño original de John Gruber y todas las aplicaciones de Markdown admiten estos elementos. [La sintaxis básica](https://www.markdownguide.org/basic-syntax)\n",
    "\n",
    "Estos elementos de la sintaxis extendida amplían la sintaxis básica añadiendo características adicionales. No todas las aplicaciones de Markdown admiten todos estos elementos. [La sintaxis extendida](https://www.markdownguide.org/extended-syntax)."
   ]
  },
  {
   "cell_type": "markdown",
   "metadata": {},
   "source": [
    "### <a name=\"parrafos\">Párrafos y saltos de línea</a>\n",
    "Para generar un nuevo párrafo en Markdown simplemente separa el texto mediante una línea en blanco (pulsando dos veces intro)\n",
    "\n",
    "Al igual que sucede con HTML, Markdown no soporta dobles líneas en blanco, así que si intentas generarlas estas se convertirán en una sola al procesarse.\n",
    "\n",
    "Para realizar un salto de línea y empezar una frase en una línea siguiente dentro del mismo párrafo, tendrás que pulsar dos veces la barra espaciadora antes de pulsar una vez intro.\n",
    "\n",
    "Por ejemplo si quisieses escribir un poema Haiku quedaría tal que así:\n",
    "\n",
    "«Andando con sus patitas mojadas,\n",
    "el gorrión\n",
    "por la terraza de madera»\n",
    "\n",
    "Donde cada verso tiene dos espacios en blanco al final."
   ]
  },
  {
   "cell_type": "markdown",
   "metadata": {
    "jp-MarkdownHeadingCollapsed": true,
    "tags": []
   },
   "source": [
    "### <a id=\"encabezado\">Encabezados </a>\n",
    "Podemos agregar encabezados para separar el contenido del documento, es tan fácil como añadir de una a cinco almohadillas (#) al principio de la línea, tantas como el nivel que queramos tenga el título. También se pueden indicar usando las etiquetas h1, h2, h3 de html.\n",
    "\n",
    "Entrada:\n",
    "```\n",
    "# texto H1\n",
    "<h2> etiqueta h21 </h2>\n",
    "```\n",
    "\n",
    "Resultado:\n",
    "# texto H1                     \n",
    "<h2> etiqueta h2 </h2>\n",
    "\n",
    "![niveles de encabezao](niveles.png)\n"
   ]
  },
  {
   "cell_type": "markdown",
   "metadata": {},
   "source": [
    "### <a name=\"enfatizado\">Texto enfatizado </a>\n",
    "El texto de una celda markdown se puede resaltar o enfatizar ponedolo en:\n",
    "\n",
    "- **negrita**, poner al inicio y final del texto deseado dos asteriscos, o dos guiones bajos, tambien se puede utilizar la etiqueta (b). \n",
    "- *Cursiva o italica*, poner al inicio y final del texto deseado un asterisco, o un guion bajo, tambien se puede utilizar la etiqueta (i).\n",
    "- `tipografia monoespaciada`, para utilizar fuente monoespaciada encuadre el texto entre   acentos gravse.\n",
    "- ~Tachado~, para tachar una parte del texto enmarquelo entre dos caracteres virgulilla ~ ~ (Alt + 126 en [codigo asscii](https://ascii.cl/es/)) el caractepara utilizar fuente monoespaciada encuadre el texto entre   acentos gravse.\n",
    "\n",
    "**este texto esta en negrita**\n",
    "\n",
    "*este texto esta en italica o cursiva*\n",
    "\n",
    "`este texto esta en tipografia monoespacio (currier)`\n",
    "\n",
    "~este texto esta en tachado~\n",
    "\n",
    "\n",
    "Por supuesto se pueden utilizar los dos tipos de enfatizado no hay más que combinar la sintaxis de los tipos deseado, envolviendo la frase entre los caracteres correspndientes a los diferentes formatos.\n",
    "\n",
    "***texto en cursiva y negrita***  \n",
    "\n",
    "~`frase en monoespaciado tachada`~\n",
    "\n",
    "Para subrayar palabras deberemos usar código html. La mayoría de editores Markdown permitirán mezclar código markdown con html. Por lo tanto, para subrayar una palabra o frase la emarcaremos entre la etiqueta (u).\n",
    "\n",
    "<u>este texto esta subrrallado</u>"
   ]
  },
  {
   "cell_type": "markdown",
   "metadata": {},
   "source": [
    "### <a name=\"lineaH\">Lineas horizontales </a>\n",
    "Puede producir una linea horizontal colocando tres o más guiones, asteriscos o guiones bajos en una línea. Si lo desea, puede usar espacios entre los guiones o asteriscos. Tambien se puede utilizar la etiqueta (hr). Las sintaxis anteriores representarán la línea horizontal de un extremo a otro de la celda cuando esta se ejecute.\n",
    "\n",
    "<hr>\n",
    "\n",
    "---\n",
    "\n",
    "****"
   ]
  },
  {
   "cell_type": "markdown",
   "metadata": {},
   "source": [
    "### <a name=\"marcas\">Marcas (bullets)</a>\n",
    "Se pueden colocar diferentes simbolos como marcas en el texto.\n",
    "\n",
    "**Circulo solido**, coloque un guión “-” con uno o os espacios después, tambien puede indicarlo con un espacio, un guión y un espacio.  \n",
    "**Un cuadrado solido**, coloque un tabulador seguido de un guion y de un espacio   \n",
    "**Un circulo perforado**, coloque dos tabulaciones, un guion y un espacio.\n",
    "\n",
    "También puede usar un asterisco(\"*\") en lugar de un guión, y funciona igual.\n",
    "\n",
    "\n",
    "- Guion con espacio\n",
    "-  Guion con dos espacios\n",
    "\n",
    "    - Tabulador guion y espacio\n",
    "    -  Tabulador guion y dos espacios\n",
    "    \n",
    "        - 2 Tabuladores, un guion y un espacio\n",
    "        -  2 tabulkaciones, un guion y dos espacios"
   ]
  },
  {
   "cell_type": "markdown",
   "metadata": {},
   "source": [
    "### <a id=\"listas\">Listas</a>\n",
    "En Markdown la listas desordenadas se crean utilizando \\* asteriscos, \\- guiones, o \\+ signo mas,  da igual elemento escojido, incluso se pueden intercambiar, todos se verán igual al ejecutarse. \n",
    "Si se desea utilizar una lista ordenada o numerada, se coloca un numero seguido de un punto. Markdown renumera automaticamente las lineas asignandoles el numero correcto.\n",
    "Para generar listas anidadas dentro de otras, simplemente tendrás que añadir cuatro espacios, o un tabulador, en blanco antes del siguiente caracter ya sea asterisco, guion, mas o un numero.\n",
    "\n",
    "#### Lista desordenada  \n",
    "- lista desordenada \n",
    "- con un guion\n",
    "    - otro elemento con guion\n",
    "    + este esta con signo mas\n",
    "* con un asterisco\n",
    "* otro asterisco \n",
    "+ Segundo elemento con mas\n",
    "\n",
    "#### Lista ordenada \n",
    "1. Primer elemento\n",
    "    4. Cuarto elemeto\n",
    "    2. Segundo elemento\n",
    "6. Elemento con un seis\n",
    "3. Tercer elemento\n"
   ]
  },
  {
   "cell_type": "markdown",
   "metadata": {},
   "source": [
    "### <a name=\"enlace\">Enlace (Link)</a>\n",
    "Las celdas de texto pueden contener enlaces, a otras partes del documento, a paginas en internet u a otros archivos locales. Para insertar un texto que incluye un enlace web, se debe encerrar el texto del enlace entre corchetes[], seguido de la direccion del enlace emtre parentesis (). Su sintaxis es [texto](direccion del enlace).\n",
    "\n",
    "[Guia Markdown](https://www.markdownguide.org)\n",
    "\n",
    "<a id=\"division\">esta es la etiqueta -division-</a> \n",
    "\n",
    "El enlace interno en Markdown comienza con la etiqueta <a> con una identificación única definida por el atributo 'id' o 'name' que se puede vincular en el cuaderno mediante un enlace.\n",
    "   \n",
    "[enlace interno a -division-](#division)\n"
   ]
  },
  {
   "cell_type": "markdown",
   "metadata": {},
   "source": [
    "### <a id=\"imagen\">Insertar imagen</a>\n",
    "La sintaxis para incluir imagenes en celdas Markdown es ![nombre alternativo](direccion de la imagen) en donde el nombre alternativo aparecera en caso de que no se pueda cargar la imagen, la direccion puede referirse tanto a una imagen local como a un enlace en Internet.\n",
    "\n",
    "![texto alternativo](https://www.markdownguide.org/assets/images/tux.png)"
   ]
  },
  {
   "cell_type": "markdown",
   "metadata": {},
   "source": [
    "### <a name=\"sangrado\">Sangrado</a> \n",
    "Para sangrar el texto se utiliza el signo mayor que “>” seguido de una espacio, luego escriba el texto. Utilize el simbolo '>' tantas veces como la cantidad de veces que desea aplicar sangría al texto. También se pueden obtener sangrado con la etiqueta \"blockquote\"\n",
    "\n",
    "> Texto con sangrado\n",
    ">> Texto con sangrado doble. el testos dangrado matiene la tablulacion hasta que se encuentre el siguiente retorno de carro. Tambien se considere retorno de carro dos espacios en blanco consecutivos.\n",
    ">>> Texto con triple sangrado\n",
    "\n",
    "<blockquote> texto sangrado con texto blockquote </blockquote>"
   ]
  },
  {
   "cell_type": "markdown",
   "metadata": {},
   "source": [
    "### <a name=\"latex\">Formulas y ecuaciones, LaTeX</a> \n",
    "\n",
    "El analizador Markdown incluido en Jupyter es compatible con MathJax. Esto significa que puede mezclar libremente expresiones matemáticas utilizando el subconjunto MathJax de Tex y LaTeX. \n",
    "\n",
    "Para incluir ecuaciones, formulas y expresiones matematicas en un cuaderno jupyter utilizaremos la codificación [LaTex](https://www.latex-project.org/) dentro de texto Markdown o con código Python generando las ecuaciones con el módulo Latex.\n",
    "\n",
    "Para mostrar código $\\LaTeX$ en nuestro notebook, simplemente tenemos que escribir la formula entre simbolos de dólar, un simbolo si es dentro de una linea, mientras que las expresiones separadas del texto utilizan sımbolos de dolar dobles.\n",
    "\n",
    "<img src='LaTeX.gif'>\n",
    "\n",
    "$$J(\\theta_0) = \\frac{1}{2m}\\sum_{i=0}^{m} (h_\\theta(x^{(i)}) - y^{(i)})^2$$\n",
    "\n",
    "\n",
    "{\n",
    "$\\theta_j := \\theta_j - \\alpha \\frac{1}{m}\\sum_{i=0}^{m} (h_\\theta(x^{(i)}) - y^{(i)}).x_j$\n",
    "}\n",
    "\n",
    "Los números de Fibonacci tienen la función generadora:\n",
    "\n",
    "$$f(x) = \\frac{x}{1 - x - x^2}$$\n"
   ]
  },
  {
   "cell_type": "code",
   "execution_count": 18,
   "metadata": {},
   "outputs": [
    {
     "data": {
      "text/latex": [
       "$\\displaystyle f(x) = \\frac{x}{1 - x - x^2}$"
      ],
      "text/plain": [
       "<IPython.core.display.Math object>"
      ]
     },
     "metadata": {},
     "output_type": "display_data"
    }
   ],
   "source": [
    "# El siguiente código genera la misma fórmula con Latex pero con código Python:\n",
    "\n",
    "from IPython.display import display, Math, Latex\n",
    "display(Math(r'f(x) = \\frac{x}{1 - x - x^2}'))"
   ]
  },
  {
   "cell_type": "markdown",
   "metadata": {},
   "source": [
    "### <a name=\"incrustado\">Código incrustado</a> \n",
    "Puede incrustar código en una celda markdown, destinado a mostrarlo y no ajecutarlo. Se utiliza el acento grave para identificar código a mostrar, y corchetes para identificar el lenguaje de programación. Tambien se puede utilizar la etiqueta *code*, para marcar una sección de código.\n",
    "\n",
    "Usando Markdown\n",
    "\n",
    "```[Python]\n",
    "txt=\"Esto es un bloque de codigo en el texto\"\n",
    "print(txt)\n",
    "```\n",
    "\n",
    "Usando etiqueta\n",
    "\n",
    "<code>[Python]\n",
    "txt=\"Esto es un bloque de codigo en el texto\"\n",
    "print(txt)\n",
    "</code>\n",
    "\n",
    "\n",
    "`Código`\n",
    "``` [language]\n",
    "Código en \n",
    "varias líneas\n",
    "```\n"
   ]
  },
  {
   "cell_type": "markdown",
   "metadata": {},
   "source": [
    "\n"
   ]
  },
  {
   "cell_type": "markdown",
   "metadata": {},
   "source": [
    "### <a name=\"cajanotas\">Cajas de notas de colores</a> \n",
    "Utilice las etiquetas div para crear un cuadro de notas de color. No todo el código de funciona dentro de una etiqueta div, así que revise sus cuadros de notas cuidadosamente. Por ejemplo, para poner una palabra en negrita, rodeela con <b>texto </b> en lugar de dos asteriscos o guiones bajos.\n",
    "\n",
    "- *Cuadros de notas*: utilice cuadros azules para sugerencias y notas. Si es una nota, no es necesario que incluya la palabra \"Nota\".\n",
    "\n",
    "    div class=\"alert alert-block alert-info\"\n",
    "<div class=\"alert alert-block alert-info\">\n",
    "    Este es un cuadro de notas en la celda </div>\n",
    "\n",
    "- *Cuadros de ejemplo*: use cuadros amarillos para ejemplos que no estén dentro de celdas de código, o para fórmulas matemáticas si es necesario.  \n",
    "    \n",
    "    div class=\"alert alert-block alert-warning\"\n",
    "<div class=\"alert alert-block alert-warning\"> \n",
    "    Este es un cuadro para ejemplo en la celda</div>  \n",
    "\n",
    "- *Cuadros de advertencia*: trate de evitar los cuadros de advertencia tanto como sea posible.\n",
    "\n",
    "    div class=\"alert alert-block alert-danger\"\n",
    "<div class=\"alert alert-block alert-danger\">\n",
    "    Esta es un cuadro de advertencia de color rojo </div>  \n",
    "\n",
    "- *Casillas de éxito:* utilice casillas verdes(o casillas de éxito) de manera restringida o poco frecuente. Por ejemplo, si tiene mucho contenido relacionado para vincular, tal vez decida usar cuadros verdes para los vínculos relacionados de cada sección de un cuaderno. \n",
    "\n",
    "    div class=\"alert alert-block alert-success\"\n",
    "<div class=\"alert alert-block alert-success\">\n",
    "    Esta es una casilla de éxit de color verde </div>\n"
   ]
  },
  {
   "attachments": {},
   "cell_type": "markdown",
   "metadata": {},
   "source": [
    "### <a id=\"tablas\">Tablas</a> \n",
    "\n",
    "Para crear tablas es debemos indicar cuales son los elementos de la cabecera y de las diferentes lineas de contenido. Para generar tablas en Markdown usaremos los símbolos : |, :, —  \n",
    "\n",
    "El primer paso para crear una tabla consiste en definir los títulos de las columnas. Para ello escribiremos los títulos de las columnas separados por tuberías | tal y como se muestra en el siguiente ejemplo:   \n",
    "| Mes | Facturación | Comercial |  \n",
    "\n",
    "Acto seguido repetiremos la línea que acabamos de escribir sustituyendo los títulos de las columnas por —   \n",
    "| --- | --- | --- |\n",
    "\n",
    "En estos momentos hemos generado una tabla que tiene 3 columnas y una fila que con los títulos de las columnas. Finalmente añadiremos el resto de filas de la misma forma que añadimos las columnas:  \n",
    "| Enero | 100.000 | Feli |  \n",
    "| Enero | 200.000 | Fran C. |  \n",
    "| Febrero | 400.000 | Feli |  \n",
    "| Febrero | 50.000 | Fran C. |  \n",
    "\n",
    "Se puede especificar la alineación de cada columna mediante la adición de dos puntos a las líneas de separación. \n",
    "Dos puntos a la izquierda de la línea y la columna este alineada a la izquierda,\n",
    "dos puntos a la derecha de la línea y la columna este alineada a la derecha\n",
    "dos puntos en ambos lados significa que la columna se alinea al centro.\n",
    "\n",
    "Con este simple código habremos generado una tabla. Si además queremos justificar a la derecha el contenido de la columna 2 y centrar todo el texto de la columna 3, lo haremos usando el símbolo : en la segunda fila del código Markdown:  \n",
    "| Mes | Facturación | Comercial |  \n",
    "| :--- | ---: | :---: |  \n",
    "| Enero | 100.000 | Feli |  \n",
    "| Enero | 200.000 | Fran C. |  \n",
    "| Febrero | 400.000 | Feli |  \n",
    "| Febrero | 50.000 | Fran C. |  \n",
    "\n",
    "--- \n",
    "\n",
    "|Cabecera | Mes | Facturación | Comercial |  \n",
    "|---| :--- | ---: | :---: |  \n",
    "|Item 1| Enero | 100.000 | Feli |  \n",
    "|Item 2| Enero | 200.000 | Fran C. |  \n",
    "|Item 3| Febrero | 400.000 | Feli |  \n",
    "|Item 4| Febrero | 50.000 | Fran C. |  \n",
    "\n",
    "La representación gráfica del texto en Markdown que acabamos de generar es la siguiente:\n",
    "\n",
    "![tablas-markdown.png](.\\imagenes\\tablas-markdown.png)"
   ]
  },
  {
   "attachments": {
    "87cf9bee-0363-49ae-aa4a-e4bfd41186cf.png": {
     "image/png": "[encoded data removed]"
    }
   },
   "cell_type": "markdown",
   "metadata": {},
   "source": [
    "- ¡Podemos incluso añadir emojis!\n",
    "\n",
    "![emoji.png](attachment:87cf9bee-0363-49ae-aa4a-e4bfd41186cf.png)\n"
   ]
  },
  {
   "attachments": {
    "9cbf5ecd-aebe-47fe-a24c-42b7c5fd1d02.png": {
     "image/png": "[encoded data removed]"
    }
   },
   "cell_type": "markdown",
   "metadata": {},
   "source": [
    "## Calcular el tiempo de ejecución con %time\n",
    "Si lo que queremos es medir el tiempo de ejecución de nuestros algoritmos, la forma más sencilla es utilizando el comando %time. Mediante este comando se nos mostrará tanto el tiempo de CPU como el de reloj. Seguidamente tenemos un ejemplo del uso de este comando en el que calculamos el tiempo de ejecución de una función.\n",
    "\n",
    "![time.png](attachment:9cbf5ecd-aebe-47fe-a24c-42b7c5fd1d02.png)\n",
    "\n",
    "Los comandos a los que pertenecen %time son los denominados comandos mágicos, que consisten en funciones adicionales muy útiles para resolver normalmente problemas comunes y repetitivos. Ejecutando %lsmagic se nos mostrará la lista con todos los comandos mágicos, que también podemos consultar en la documentación oficial.\n",
    "\n",
    "Hay dos tipos de comandos mágicos: los comandos que comienzan con % como el del ejemplo anterior y que afectan a una única línea de una celda (donde se inserta el comando) y aquellos comandos que comienzan con %% y se aplican a toda la celda.\n",
    "\n",
    "Por ejemplo, si queremos conocer el tiempo de ejecución de un bloque de código, usaríamos %%time como podemos apreciar en el siguiente ejemplo.\n"
   ]
  },
  {
   "cell_type": "code",
   "execution_count": 1,
   "metadata": {},
   "outputs": [
    {
     "name": "stdout",
     "output_type": "stream",
     "text": [
      "Wall time: 102 ms\n"
     ]
    }
   ],
   "source": [
    "%%time\n",
    "\n",
    "e = 0\n",
    "for i in range(0, 1000000): \n",
    "    e = e + 1  "
   ]
  },
  {
   "attachments": {},
   "cell_type": "markdown",
   "metadata": {},
   "source": [
    "## Función de autocompletado\n",
    "Jupyter Notebook también dispone de una función de autocompletado de código preinstalada que nos ayudará a ahorrar tiempo y evitar errores. Para usar esta función de autocompletado en el nombre de los métodos y variables simplemente debemos presionar la tecla Tab y se nos mostrará un menú desplegable con todas las sugerencias.\n",
    "\n",
    "![autocomp.png](.\\imagenes\\autocomp.png)\n",
    "\n",
    "Además, también hay disponible una extensión de Jupyter llamada Hinterland para que se nos muestre automáticamente el menú desplegable al escribir sin tener que llamarlo cada vez que queremos usarlo con la tecla Tab."
   ]
  },
  {
   "attachments": {
    "3d28e734-785a-475d-a28b-e5115e0c971a.png": {
     "image/png": "[encoded data removed]"
    },
    "4357a23c-943e-4033-8fc4-0b17e6ab38cd.png": {
     "image/png": "[encoded data removed]"
    },
    "8128d185-9d34-4693-8cb9-ee2e79b531f1.png": {
     "image/png": "[encoded data removed]"
    }
   },
   "cell_type": "markdown",
   "metadata": {},
   "source": [
    "## Mostrar variables definidas con %who y %whos\n",
    "Existen diferentes formas de mostrar las variables definidas en nuestro documento de Jupyter Notebook. La manera más simple es usando el comando mágico %who como podemos observar en el siguiente ejemplo:\n",
    "\n",
    "![variables.png](attachment:3d28e734-785a-475d-a28b-e5115e0c971a.png)\n",
    "\n",
    "Además, también le podemos indicar el tipo de variable que queremos listar (str, int, etc.).\n",
    "\n",
    "![variable1.png](attachment:8128d185-9d34-4693-8cb9-ee2e79b531f1.png)\n",
    "\n",
    "Por otro lado, con el comando %whos se mostrará información adicional junto al nombre de cada variable como su tipo o su longitud en caso de tratarse de un array, diccionario o set.\n",
    "\n",
    "![variable2.png](attachment:4357a23c-943e-4033-8fc4-0b17e6ab38cd.png)\n"
   ]
  },
  {
   "cell_type": "code",
   "execution_count": null,
   "metadata": {},
   "outputs": [],
   "source": [
    "\n",
    "\n",
    "En este tutorial aprenderá a utilizar lo siguiente:\n",
    "    \n",
    "    \n",
    "\n",
    "Encabezados\n",
    "Cajas de notas de colores\n",
    "Bloque sangrado\n",
    "Balas\n",
    "Fuente monospace\n",
    "Código incrustado\n",
    "Símbolos matemáticos y ecuaciones LaTeX\n",
    "Salto de línea\n",
    "Texto en negrita y cursiva\n",
    "Lineas horizontales\n",
    "Formas geométricas\n",
    "Listas ordenadas y desordenadas\n",
    "Enlaces internos y externos\n",
    "Mesa\n",
    "Imagen\n",
    "Rebaja con sabor a GitHub"
   ]
  },
  {
   "cell_type": "markdown",
   "metadata": {},
   "source": [
    "### Bloque de código acotado\n",
    "Si quieres crear un bloque entero que contenga código. Lo único que tienes que hacer es encerrar dicho párrafo entre dos líneas formadas por tres virgulillas (\\~) , o tres acentos graves.\n",
    "\n",
    "Tal que así:\n",
    "```\n",
    "~~~\n",
    "Creando códigos de bloque.\n",
    "Puedes añadir tantas líneas y párrafos como quieras.  \n",
    "~~~\n",
    "```\n",
    "De esta forma, obtendrás el siguiente resultado:\n",
    "\n",
    "~~~\n",
    "Creando códigos de bloque.\n",
    "Puedes añadir tantas líneas y párrafos como quieras.\n",
    "~~~\n",
    "\n",
    "O este otro resultado\n",
    "\n",
    "```\n",
    "{\n",
    "  \"Nompre\": \"John\",\n",
    "  \"Apellido\": \"Smith\",\n",
    "  \"edad: 25\n",
    "}\n",
    "```\n",
    "\n",
    "La otra manera de añadir código en Markdown es comenzar el párrafo con cuatro espacios en blanco. Esto se corresponde con la etiqueta HTML (pre)\n",
    "\n",
    "____Esto es una línea de código  \n",
    "Se convierte en\n",
    "\n",
    "    Esto es una línea de código\n",
    "\n",
    "Ojo, ¡estos espacios deberás incluirlos en cada línea que escribas! Para añadir código en bloque es mejor utilizar la sintaxis que viste anteriormente.\n",
    "\n",
    "\n",
    "\n",
    "### Nota al pie\n",
    "\n",
    "Este es un parrafo con una nota al pie. [^1]\n",
    "\n",
    "[^1]: esta es la nota al pie\n",
    "\n",
    "Notas a pie de página\n",
    "Cada nota de pie de página se compone de dos elementos: un marcador al lado del texto que se convierte en un superíndice y de una definición que se puede colocar en una lista de notas al pie al final de documento. Ejemplo:\n",
    "\n",
    "Esto es un texto con nota al pie [^1]\n",
    "[^1]: Esto es una nota al pie de página.\n",
    "Esto es un texto con nota al pie 1\n",
    "\n",
    "Cada marcador de nota debe tener un nombre distinto. Ese nombre se utiliza para vincular la nota a la que hace referencia a las definiciones de la nota, pero no tiene ningún efecto sobre la numeración de las notas al pie. Los nombres pueden contener cualquier carácter válido que sirva para la una Identificación de un atributo HTML (es decir, que cumpla con la expresión regular [A-Za-z][-A-Za-z0-9_:.]*), no tienen porque ser necesariamente números. Ejemplo:\n",
    "\n",
    "Esto es un texto con nota al pie [^nota1] y esta es otra nota [^nota2]\n",
    "[^nota1]: Esto es una nota al pie de página.\n",
    "[^nota2]: Esto es la segunda nota al pie.\n",
    "Esto es un texto con nota al pie 2 y esta es otra nota 3\n",
    "\n",
    "\n",
    "\n",
    "\n",
    "\n",
    "### Definition List\n",
    "\n",
    "term\n",
    ": definition\n",
    "\n",
    "\n",
    "\n",
    "### Lista de tareas\n",
    "\n",
    "Para crear una lista de tareas, crea una lista con los elementos con un guion y espacio, seguido de [ ]. Para marcar una tarea como completada, utiliza [x].\n",
    "\n",
    "- [x] Write the press release\n",
    "- [ ] Update the website\n",
    "- [ ] Contact the media\n"
   ]
  },
  {
   "cell_type": "markdown",
   "metadata": {},
   "source": [
    "### Escape de barra invertida   \n",
    "Markdown le permite usar escapes de barra invertida para generar caracteres literales que de otro modo tendrían un significado especial en la sintaxis de formato de Markdown. Por ejemplo, si desea rodear una palabra con el caracter asterisco, puede usar barras invertidas antes de los asteriscos, de esta manera:  \n",
    "\n",
    "\\*asterisco literal\\*\n",
    "Markdown proporciona escapes de barra invertida para los siguientes caracteres:\n",
    "\n",
    "\\   barra invertida  \n",
    "\\`   retroceso  \n",
    "\\*   asterisco  \n",
    "\\_   guion bajo  \n",
    "\\{}  llaves  \n",
    "\\[]  corchetes  \n",
    "\\()  paréntesis  \n",
    "\\#   símbolo de hash  \n",
    "\\+   signo más  \n",
    "\\-   signo menos (guión)  \n",
    "\\.   punto  \n",
    "\\!   signo de exclamación  "
   ]
  },
  {
   "cell_type": "code",
   "execution_count": null,
   "metadata": {},
   "outputs": [],
   "source": []
  }
 ],
 "metadata": {
  "kernelspec": {
   "display_name": "Python 3 (ipykernel)",
   "language": "python",
   "name": "python3"
  },
  "language_info": {
   "codemirror_mode": {
    "name": "ipython",
    "version": 3
   },
   "file_extension": ".py",
   "mimetype": "text/x-python",
   "name": "python",
   "nbconvert_exporter": "python",
   "pygments_lexer": "ipython3",
   "version": "3.9.7"
  }
 },
 "nbformat": 4,
 "nbformat_minor": 4
}
